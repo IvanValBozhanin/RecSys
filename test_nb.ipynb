{
 "cells": [
  {
   "cell_type": "code",
   "id": "initial_id",
   "metadata": {
    "collapsed": true,
    "ExecuteTime": {
     "end_time": "2025-04-29T15:38:00.130499Z",
     "start_time": "2025-04-29T15:37:58.987240Z"
    }
   },
   "source": [
    "import numpy as np\n",
    "import torch\n",
    "import pandas as pd\n",
    "\n",
    "pd.set_option('display.width', 400)\n",
    "pd.set_option('display.max_columns', 20)\n",
    "np.set_printoptions(linewidth=400)"
   ],
   "outputs": [],
   "execution_count": 1
  },
  {
   "metadata": {
    "ExecuteTime": {
     "end_time": "2025-04-29T17:40:19.468715Z",
     "start_time": "2025-04-29T17:40:19.464995Z"
    }
   },
   "cell_type": "code",
   "source": [
    "# INTRODUCING HELPER FUNCTIONS\n",
    "\n",
    "def nanvar(\n",
    "        tensor: torch.Tensor,\n",
    "        dim: int=None,\n",
    "        keepdim: bool=False,\n",
    "        correction: int=1\n",
    ") -> torch.Tensor:\n",
    "    # Count non-NaN elements\n",
    "    count = (~torch.isnan(tensor)).sum(dim=dim, keepdim=keepdim)\n",
    "\n",
    "    # Compute mean while ignoring NaNs\n",
    "    mean = torch.nanmean(tensor, dim=dim, keepdim=True)\n",
    "\n",
    "    # Compute squared difference from the mean\n",
    "    sq_diff = (tensor - mean).pow(2)\n",
    "    sq_diff = torch.where(\n",
    "        torch.isnan(sq_diff),\n",
    "        torch.zeros_like(sq_diff),\n",
    "        sq_diff)\n",
    "\n",
    "    # Sum of squared differences\n",
    "    sum_sq_diff = sq_diff.sum(dim=dim, keepdim=keepdim)\n",
    "\n",
    "    # Degrees of freedom correction (e.g., 1 for sample variance)\n",
    "    divisor = (count - correction).clamp(min=1)\n",
    "\n",
    "    return sum_sq_diff / divisor.to(sum_sq_diff.dtype)\n",
    "\n",
    "def nanstd(\n",
    "        tensor: torch.Tensor,\n",
    "        dim: int=None,\n",
    "        keepdim: bool=False,\n",
    "        correction: int=1\n",
    ") -> torch.Tensor:\n",
    "    \"\"\"\n",
    "    Computes the standard deviation of a tensor along a specified dimension,\n",
    "    ignoring NaN values.\n",
    "    \"\"\"\n",
    "\n",
    "    return nanvar(tensor, dim=dim, keepdim=keepdim, correction=correction).sqrt()"
   ],
   "id": "99878f99af029894",
   "outputs": [],
   "execution_count": 6
  },
  {
   "metadata": {
    "ExecuteTime": {
     "end_time": "2025-04-29T17:48:50.436399Z",
     "start_time": "2025-04-29T17:48:50.426808Z"
    }
   },
   "cell_type": "code",
   "source": [
    "# COVARIANCE\n",
    "\n",
    "data = {\n",
    "    1: { 1: 4.0, 2: np.nan, 3: 2.0 },\n",
    "    2: { 1: 5.0, 2: 3.0,      },\n",
    "    3: { 1: 3.0, 2: 4.0, 3: 5.0 },\n",
    "}\n",
    "r = pd.DataFrame(data).T\n",
    "\n",
    "#    1    2    3\n",
    "# 1  4  NaN  2.0\n",
    "# 2  5  3.0  NaN\n",
    "# 3  3  4.0  5.0\n",
    "\n",
    "# Pandas\n",
    "R_pandas = (\n",
    "    (r - r.mean(axis=0, skipna=True))\n",
    "     .div(r.std(axis=0, ddof=0, skipna=True) + 1e-8, axis=1)\n",
    "     .fillna(0.0)\n",
    ")\n",
    "\n",
    "# NumPy\n",
    "r_np = r.values  # shape (n_items, n_users)\n",
    "means = np.nanmean(r_np, axis=0)\n",
    "stds  = np.nanstd (r_np, axis=0, ddof=0)\n",
    "\n",
    "R_numpy = (r_np - means) / (stds + 1e-8)\n",
    "R_numpy = np.nan_to_num(R_numpy, nan=0.0)\n",
    "\n",
    "# 2C) PyTorch\n",
    "r_torch = torch.tensor(r_np, dtype=torch.float64)\n",
    "\n",
    "means_t = torch.nanmean(r_torch, dim=0)\n",
    "stds_t  = nanstd (r_torch, dim=0, correction=0)\n",
    "\n",
    "R_torch = (r_torch - means_t) / (stds_t + 1e-8)\n",
    "R_torch = torch.nan_to_num(R_torch, nan=0.0)\n",
    "\n",
    "\n",
    "\n",
    "# By hand\n",
    "\n",
    "def by_hand(r_df):\n",
    "    # for each column\n",
    "    out = []\n",
    "    for col in r_df:\n",
    "        col_data = r_df[col].values  # nanable\n",
    "        # A) compute mean/std over non‐nan\n",
    "        m = np.nanmean(col_data)\n",
    "        s = np.nanstd (col_data, ddof=0)\n",
    "        # B) z‐score and then replace nan→0\n",
    "        z = (col_data - m) / (s + 1e-8)\n",
    "        z = np.where(np.isnan(z), 0.0, z)\n",
    "        out.append(z)\n",
    "    # stack back into (n_items, n_users)\n",
    "    return np.vstack(out).T\n",
    "\n",
    "R_byhand = by_hand(r)\n",
    "\n",
    "print(\"Max abs diff pandas vs byhand:\", np.max(np.abs(R_pandas.values - R_byhand)))\n",
    "print(\"Max abs diff numpy  vs byhand:\", np.max(np.abs(R_numpy      - R_byhand)))\n",
    "print(\"Max abs diff torch  vs byhand:\", torch.max(torch.abs(R_torch - torch.tensor(R_byhand))))\n",
    "\n"
   ],
   "id": "963b128b38421ef0",
   "outputs": [
    {
     "name": "stdout",
     "output_type": "stream",
     "text": [
      "Max abs diff pandas vs byhand: 0.0\n",
      "Max abs diff numpy  vs byhand: 0.0\n",
      "Max abs diff torch  vs byhand: tensor(0., dtype=torch.float64)\n"
     ]
    }
   ],
   "execution_count": 10
  },
  {
   "metadata": {
    "ExecuteTime": {
     "end_time": "2025-04-29T17:40:30.747903Z",
     "start_time": "2025-04-29T17:40:30.745770Z"
    }
   },
   "cell_type": "code",
   "source": "",
   "id": "11adb2468fa569b9",
   "outputs": [],
   "execution_count": null
  },
  {
   "metadata": {},
   "cell_type": "code",
   "outputs": [],
   "execution_count": null,
   "source": "",
   "id": "dce091d400899012"
  }
 ],
 "metadata": {
  "kernelspec": {
   "display_name": "Python 3",
   "language": "python",
   "name": "python3"
  },
  "language_info": {
   "codemirror_mode": {
    "name": "ipython",
    "version": 2
   },
   "file_extension": ".py",
   "mimetype": "text/x-python",
   "name": "python",
   "nbconvert_exporter": "python",
   "pygments_lexer": "ipython2",
   "version": "2.7.6"
  }
 },
 "nbformat": 4,
 "nbformat_minor": 5
}
