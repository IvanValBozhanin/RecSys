{
 "cells": [
  {
   "cell_type": "code",
   "id": "initial_id",
   "metadata": {
    "collapsed": true,
    "ExecuteTime": {
     "end_time": "2024-11-14T10:50:58.181939Z",
     "start_time": "2024-11-14T10:50:56.754142Z"
    }
   },
   "source": [
    "import pandas as pd\n",
    "import numpy as np\n",
    "import torch\n",
    "from psutil import boot_time"
   ],
   "outputs": [],
   "execution_count": 2
  },
  {
   "metadata": {
    "ExecuteTime": {
     "end_time": "2024-10-15T10:25:16.718885Z",
     "start_time": "2024-10-15T10:25:16.663413Z"
    }
   },
   "cell_type": "code",
   "source": [
    "path = 'ml-latest-small/'\n",
    "ratings = pd.read_csv(path + 'ratings.csv')\n",
    "movies = pd.read_csv(path + 'movies.csv')\n",
    "links = pd.read_csv(path + 'links.csv')\n",
    "tags = pd.read_csv(path + 'tags.csv')"
   ],
   "id": "6ec6ed2696956fd2",
   "outputs": [],
   "execution_count": 5
  },
  {
   "metadata": {
    "ExecuteTime": {
     "end_time": "2024-10-15T10:27:00.027163Z",
     "start_time": "2024-10-15T10:27:00.023297Z"
    }
   },
   "cell_type": "code",
   "source": [
    "for df in [ratings]:\n",
    "    print(df.head())\n",
    "    print(\"==================================\")"
   ],
   "id": "b1c903c04a2c68b6",
   "outputs": [
    {
     "name": "stdout",
     "output_type": "stream",
     "text": [
      "   userId  movieId  rating  timestamp\n",
      "0       1        1     4.0  964982703\n",
      "1       1        3     4.0  964981247\n",
      "2       1        6     4.0  964982224\n",
      "3       1       47     5.0  964983815\n",
      "4       1       50     5.0  964982931\n",
      "==================================\n"
     ]
    }
   ],
   "execution_count": 7
  },
  {
   "metadata": {
    "ExecuteTime": {
     "end_time": "2024-10-15T10:27:12.578766Z",
     "start_time": "2024-10-15T10:27:12.575534Z"
    }
   },
   "cell_type": "code",
   "source": [
    "for df in [movies]:\n",
    "    print(df.head())\n",
    "    print(\"==================================\")"
   ],
   "id": "a5281b7a154bdbf7",
   "outputs": [
    {
     "name": "stdout",
     "output_type": "stream",
     "text": [
      "   movieId                               title  \\\n",
      "0        1                    Toy Story (1995)   \n",
      "1        2                      Jumanji (1995)   \n",
      "2        3             Grumpier Old Men (1995)   \n",
      "3        4            Waiting to Exhale (1995)   \n",
      "4        5  Father of the Bride Part II (1995)   \n",
      "\n",
      "                                        genres  \n",
      "0  Adventure|Animation|Children|Comedy|Fantasy  \n",
      "1                   Adventure|Children|Fantasy  \n",
      "2                               Comedy|Romance  \n",
      "3                         Comedy|Drama|Romance  \n",
      "4                                       Comedy  \n",
      "==================================\n"
     ]
    }
   ],
   "execution_count": 8
  },
  {
   "metadata": {
    "ExecuteTime": {
     "end_time": "2024-10-15T10:27:21.417461Z",
     "start_time": "2024-10-15T10:27:21.414290Z"
    }
   },
   "cell_type": "code",
   "source": [
    "for df in [links]:\n",
    "    print(df.head())\n",
    "    print(\"==================================\")"
   ],
   "id": "9ee7aa0a707d7d0c",
   "outputs": [
    {
     "name": "stdout",
     "output_type": "stream",
     "text": [
      "   movieId  imdbId   tmdbId\n",
      "0        1  114709    862.0\n",
      "1        2  113497   8844.0\n",
      "2        3  113228  15602.0\n",
      "3        4  114885  31357.0\n",
      "4        5  113041  11862.0\n",
      "==================================\n"
     ]
    }
   ],
   "execution_count": 9
  },
  {
   "metadata": {
    "ExecuteTime": {
     "end_time": "2024-10-15T10:27:30.784602Z",
     "start_time": "2024-10-15T10:27:30.781331Z"
    }
   },
   "cell_type": "code",
   "source": [
    "for df in [tags]:\n",
    "    print(df.head())\n",
    "    print(\"==================================\")"
   ],
   "id": "b6114a75330f5afc",
   "outputs": [
    {
     "name": "stdout",
     "output_type": "stream",
     "text": [
      "   userId  movieId              tag   timestamp\n",
      "0       2    60756            funny  1445714994\n",
      "1       2    60756  Highly quotable  1445714996\n",
      "2       2    60756     will ferrell  1445714992\n",
      "3       2    89774     Boxing story  1445715207\n",
      "4       2    89774              MMA  1445715200\n",
      "==================================\n"
     ]
    }
   ],
   "execution_count": 11
  },
  {
   "metadata": {
    "ExecuteTime": {
     "end_time": "2024-10-15T10:28:53.387200Z",
     "start_time": "2024-10-15T10:28:53.384914Z"
    }
   },
   "cell_type": "code",
   "source": "print(ratings.shape)",
   "id": "2ebac082174e30b1",
   "outputs": [
    {
     "name": "stdout",
     "output_type": "stream",
     "text": [
      "(100836, 4)\n"
     ]
    }
   ],
   "execution_count": 12
  },
  {
   "metadata": {
    "ExecuteTime": {
     "end_time": "2024-10-15T10:28:57.075836Z",
     "start_time": "2024-10-15T10:28:57.070882Z"
    }
   },
   "cell_type": "code",
   "source": "print(ratings)",
   "id": "a8a13d9f3d1c03fc",
   "outputs": [
    {
     "name": "stdout",
     "output_type": "stream",
     "text": [
      "        userId  movieId  rating   timestamp\n",
      "0            1        1     4.0   964982703\n",
      "1            1        3     4.0   964981247\n",
      "2            1        6     4.0   964982224\n",
      "3            1       47     5.0   964983815\n",
      "4            1       50     5.0   964982931\n",
      "...        ...      ...     ...         ...\n",
      "100831     610   166534     4.0  1493848402\n",
      "100832     610   168248     5.0  1493850091\n",
      "100833     610   168250     5.0  1494273047\n",
      "100834     610   168252     5.0  1493846352\n",
      "100835     610   170875     3.0  1493846415\n",
      "\n",
      "[100836 rows x 4 columns]\n"
     ]
    }
   ],
   "execution_count": 13
  },
  {
   "metadata": {
    "ExecuteTime": {
     "end_time": "2024-10-15T15:09:22.956727Z",
     "start_time": "2024-10-15T15:09:22.954259Z"
    }
   },
   "cell_type": "code",
   "source": "",
   "id": "4bb2dc63810d115b",
   "outputs": [],
   "execution_count": 21
  },
  {
   "metadata": {
    "ExecuteTime": {
     "end_time": "2024-10-15T15:09:23.104252Z",
     "start_time": "2024-10-15T15:09:23.101015Z"
    }
   },
   "cell_type": "code",
   "source": [
    "# check for gpu availability\n",
    "print(torch.cuda.is_available())"
   ],
   "id": "fe238a12afcb12d7",
   "outputs": [
    {
     "name": "stdout",
     "output_type": "stream",
     "text": [
      "True\n"
     ]
    }
   ],
   "execution_count": 22
  },
  {
   "metadata": {
    "ExecuteTime": {
     "end_time": "2024-10-15T15:09:23.272451Z",
     "start_time": "2024-10-15T15:09:23.268658Z"
    }
   },
   "cell_type": "code",
   "source": [
    "# name of the device to use instead of 'cpu'\n",
    "\n",
    "device = torch.device('cuda' if torch.cuda.is_available() else 'cpu')\n",
    "device"
   ],
   "id": "538ef81376689f1b",
   "outputs": [
    {
     "data": {
      "text/plain": [
       "device(type='cuda')"
      ]
     },
     "execution_count": 23,
     "metadata": {},
     "output_type": "execute_result"
    }
   ],
   "execution_count": 23
  },
  {
   "metadata": {
    "ExecuteTime": {
     "end_time": "2024-10-22T13:09:07.360513Z",
     "start_time": "2024-10-22T13:09:07.277228Z"
    }
   },
   "cell_type": "code",
   "source": "",
   "id": "8fe66e5adb1b878c",
   "outputs": [],
   "execution_count": 1
  },
  {
   "metadata": {
    "ExecuteTime": {
     "end_time": "2024-10-22T13:11:34.981389Z",
     "start_time": "2024-10-22T13:11:34.978608Z"
    }
   },
   "cell_type": "code",
   "source": [
    "d = np.array([1, 0, 0])\n",
    "print(d)\n",
    "print(~d)\n",
    "print(1 - d)"
   ],
   "id": "434808b75d2cfc24",
   "outputs": [
    {
     "name": "stdout",
     "output_type": "stream",
     "text": [
      "[1 0 0]\n",
      "[-2 -1 -1]\n",
      "[0 1 1]\n"
     ]
    }
   ],
   "execution_count": 3
  },
  {
   "metadata": {
    "ExecuteTime": {
     "end_time": "2024-11-13T20:51:22.758690Z",
     "start_time": "2024-11-13T20:51:22.756006Z"
    }
   },
   "cell_type": "code",
   "source": [
    "d = np.array([1, 2 ,3])\n",
    "print(np.expand_dims(d, axis=0).shape)\n",
    "print(np.expand_dims(d, axis=1).shape)"
   ],
   "id": "b5db39e6f7799afb",
   "outputs": [
    {
     "name": "stdout",
     "output_type": "stream",
     "text": [
      "(1, 3)\n",
      "(3, 1)\n"
     ]
    }
   ],
   "execution_count": 4
  },
  {
   "metadata": {
    "ExecuteTime": {
     "end_time": "2024-11-13T21:46:04.860732Z",
     "start_time": "2024-11-13T21:46:04.857288Z"
    }
   },
   "cell_type": "code",
   "source": [
    "# Normalize the column of the user-movie matrix (per user)\n",
    "def z_score_column_normalization(column):\n",
    "\n",
    "    non_null_ratings = column[~np.isnan(column)]\n",
    "\n",
    "    if len(non_null_ratings) > 1:\n",
    "        mean = np.mean(non_null_ratings)\n",
    "        std = np.std(non_null_ratings)\n",
    "        if std == 0:\n",
    "            std = 1\n",
    "\n",
    "    else:\n",
    "        mean = np.mean(non_null_ratings) if len(non_null_ratings) > 0 else 0\n",
    "        std = 1\n",
    "\n",
    "    normalized_column = (column - mean) / std\n",
    "\n",
    "    return normalized_column, mean, std\n",
    "\n",
    "def normalize_and_fill_user_movie_matrix(masked_matrix):\n",
    "    # apply - axis=0 means that we will normalize each column.\n",
    "    # normalized_matrix = pd.DataFrame(masked_matrix).apply(z_score_column_normalization, axis=0)\n",
    "\n",
    "    # fill the missing values with 0.\n",
    "    df_masked_matrix = pd.DataFrame(masked_matrix)\n",
    "    normalized_matrix = pd.DataFrame(index=df_masked_matrix.index, columns=df_masked_matrix.columns)\n",
    "    user_mean = []\n",
    "    user_std = []\n",
    "\n",
    "    for col in df_masked_matrix.columns:\n",
    "        normalized_column, mean, std = z_score_column_normalization(df_masked_matrix[col])\n",
    "        normalized_matrix[col] = normalized_column\n",
    "        user_mean.append(mean)\n",
    "        user_std.append(std)\n",
    "\n",
    "    normalized_matrix_filled = normalized_matrix.fillna(0)\n",
    "\n",
    "    return normalized_matrix_filled, user_mean, user_std\n"
   ],
   "id": "ad1af189c705d630",
   "outputs": [],
   "execution_count": 5
  },
  {
   "metadata": {
    "ExecuteTime": {
     "end_time": "2024-11-13T21:48:13.312739Z",
     "start_time": "2024-11-13T21:48:13.305360Z"
    }
   },
   "cell_type": "code",
   "source": [
    "# test the above function\n",
    "user_movie_matrix = pd.DataFrame([[1, 2, 3], \n",
    "                                  [4, 5, np.nan],\n",
    "                                  [7, np.nan, 9],\n",
    "                                  [np.nan, 10, 11]])\n",
    "\n",
    "print(user_movie_matrix)\n",
    "\n",
    "normalized_matrix, user_mean, user_std = normalize_and_fill_user_movie_matrix(user_movie_matrix)\n",
    "\n",
    "print(normalized_matrix)\n",
    "print(user_mean)\n",
    "print(user_std)"
   ],
   "id": "c4ac36fc4e7895fb",
   "outputs": [
    {
     "name": "stdout",
     "output_type": "stream",
     "text": [
      "     0     1     2\n",
      "0  1.0   2.0   3.0\n",
      "1  4.0   5.0   NaN\n",
      "2  7.0   NaN   9.0\n",
      "3  NaN  10.0  11.0\n",
      "          0         1         2\n",
      "0 -1.224745 -1.111168 -1.372813\n",
      "1  0.000000 -0.202031  0.000000\n",
      "2  1.224745  0.000000  0.392232\n",
      "3  0.000000  1.313198  0.980581\n",
      "[4.0, 5.666666666666667, 7.666666666666667]\n",
      "[2.449489742783178, 3.2998316455372216, 3.39934634239519]\n"
     ]
    }
   ],
   "execution_count": 9
  },
  {
   "metadata": {
    "ExecuteTime": {
     "end_time": "2024-11-13T21:48:13.748299Z",
     "start_time": "2024-11-13T21:48:13.746001Z"
    }
   },
   "cell_type": "code",
   "source": [
    "# denormalize the prediction matrix\n",
    "def denormalize_ratings(prediction_matrix, user_means, user_stds):\n",
    "    means_expanded = np.expand_dims(user_means, axis=0)\n",
    "    stds_expanded = np.expand_dims(user_stds, axis=0)\n",
    "\n",
    "    denormalized_matrix = (prediction_matrix * stds_expanded) + means_expanded\n",
    "\n",
    "    return denormalized_matrix\n"
   ],
   "id": "27f1720aab57e0ea",
   "outputs": [],
   "execution_count": 10
  },
  {
   "metadata": {
    "ExecuteTime": {
     "end_time": "2024-11-13T21:48:14.111204Z",
     "start_time": "2024-11-13T21:48:14.107321Z"
    }
   },
   "cell_type": "code",
   "source": [
    "# test the above function\n",
    "\n",
    "denorm_ratings = denormalize_ratings(normalized_matrix, user_mean, user_std)\n",
    "\n",
    "print(denorm_ratings)"
   ],
   "id": "89a801a9f56c9856",
   "outputs": [
    {
     "name": "stdout",
     "output_type": "stream",
     "text": [
      "     0          1          2\n",
      "0  1.0   2.000000   3.000000\n",
      "1  4.0   5.000000   7.666667\n",
      "2  7.0   5.666667   9.000000\n",
      "3  4.0  10.000000  11.000000\n"
     ]
    }
   ],
   "execution_count": 11
  },
  {
   "metadata": {
    "ExecuteTime": {
     "end_time": "2024-11-14T10:40:20.928629Z",
     "start_time": "2024-11-14T10:40:20.923741Z"
    }
   },
   "cell_type": "code",
   "source": "print(chr(sum(range(ord(min(str(not())))))))",
   "id": "3c4b0a38edeab320",
   "outputs": [
    {
     "name": "stdout",
     "output_type": "stream",
     "text": [
      "ඞ\n"
     ]
    }
   ],
   "execution_count": 1
  },
  {
   "metadata": {
    "ExecuteTime": {
     "end_time": "2024-11-14T10:55:14.237234Z",
     "start_time": "2024-11-14T10:55:14.233727Z"
    }
   },
   "cell_type": "code",
   "source": [
    "d = np.array([0, 1, 2, 3, np.nan])\n",
    "\n",
    "print(~np.isnan(d))\n",
    "\n",
    "# separate the non-null values\n",
    "non_null_ratings = d[~np.isnan(d)]\n",
    "print(non_null_ratings)\n",
    "\n",
    "# get only the non-zero values\n",
    "\n",
    "non_zero_ratings = non_null_ratings[non_null_ratings != 0]\n",
    "print(non_zero_ratings)\n"
   ],
   "id": "cf7296386270406b",
   "outputs": [
    {
     "name": "stdout",
     "output_type": "stream",
     "text": [
      "[ True  True  True  True False]\n",
      "[0. 1. 2. 3.]\n",
      "[1. 2. 3.]\n"
     ]
    }
   ],
   "execution_count": 15
  },
  {
   "metadata": {
    "ExecuteTime": {
     "end_time": "2024-11-14T11:24:49.570519Z",
     "start_time": "2024-11-14T11:24:49.565935Z"
    }
   },
   "cell_type": "code",
   "source": [
    "bitmask = np.array([[0, 1, 1, 0],\n",
    "                    [1, 0, 0, 1],\n",
    "                    [0, 1, np.nan, 1]])\n",
    "\n",
    "print(bitmask)\n",
    "\n",
    "positions_of_ones = np.where((bitmask != 0) & (~np.isnan(bitmask)))\n",
    "print(bitmask[positions_of_ones])"
   ],
   "id": "c695f023e9e344cb",
   "outputs": [
    {
     "name": "stdout",
     "output_type": "stream",
     "text": [
      "[[ 0.  1.  1.  0.]\n",
      " [ 1.  0.  0.  1.]\n",
      " [ 0.  1. nan  1.]]\n",
      "[1. 1. 1. 1. 1. 1.]\n"
     ]
    }
   ],
   "execution_count": 32
  },
  {
   "metadata": {
    "ExecuteTime": {
     "end_time": "2024-11-14T11:45:09.261454Z",
     "start_time": "2024-11-14T11:45:09.258258Z"
    }
   },
   "cell_type": "code",
   "source": [
    "n2d = np.array([[1, 2, 3],\n",
    "                [4, 5, 6],\n",
    "                [7, 8, 9]])\n",
    "\n",
    "res = []\n",
    "\n",
    "for i in range(n2d.shape[0]):\n",
    "    res.extend(n2d[i])\n",
    "    \n",
    "print(res)\n",
    "print(type(res[0]))"
   ],
   "id": "b457b63019033e22",
   "outputs": [
    {
     "name": "stdout",
     "output_type": "stream",
     "text": [
      "[1, 2, 3, 4, 5, 6, 7, 8, 9]\n",
      "<class 'numpy.int64'>\n"
     ]
    }
   ],
   "execution_count": 36
  },
  {
   "metadata": {},
   "cell_type": "code",
   "outputs": [],
   "execution_count": null,
   "source": "",
   "id": "dd2e1cdabb10915c"
  }
 ],
 "metadata": {
  "kernelspec": {
   "display_name": "Python 3",
   "language": "python",
   "name": "python3"
  },
  "language_info": {
   "codemirror_mode": {
    "name": "ipython",
    "version": 2
   },
   "file_extension": ".py",
   "mimetype": "text/x-python",
   "name": "python",
   "nbconvert_exporter": "python",
   "pygments_lexer": "ipython2",
   "version": "2.7.6"
  }
 },
 "nbformat": 4,
 "nbformat_minor": 5
}
