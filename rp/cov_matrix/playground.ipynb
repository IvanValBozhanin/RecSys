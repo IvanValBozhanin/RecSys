{
 "cells": [
  {
   "cell_type": "code",
   "id": "initial_id",
   "metadata": {
    "collapsed": true,
    "ExecuteTime": {
     "end_time": "2025-04-30T08:39:40.274220Z",
     "start_time": "2025-04-30T08:39:40.271073Z"
    }
   },
   "source": [
    "import numpy as np\n",
    "import torch\n",
    "import pandas as pd\n",
    "import scipy.stats as stats\n",
    "\n",
    "pd.set_option('display.width', 400)\n",
    "pd.set_option('display.max_columns', 10)\n",
    "np.set_printoptions(linewidth=400)\n",
    "\n"
   ],
   "outputs": [],
   "execution_count": 102
  },
  {
   "metadata": {
    "ExecuteTime": {
     "end_time": "2025-04-30T08:02:42.474674Z",
     "start_time": "2025-04-30T08:02:42.449927Z"
    }
   },
   "cell_type": "code",
   "source": [
    "# Load the data\n",
    "ratings = pd.read_csv('../../ml-latest-small/ratings.csv')\n"
   ],
   "id": "a5ad049975498f",
   "outputs": [],
   "execution_count": 74
  },
  {
   "metadata": {
    "ExecuteTime": {
     "end_time": "2025-04-30T08:02:42.645072Z",
     "start_time": "2025-04-30T08:02:42.642550Z"
    }
   },
   "cell_type": "code",
   "source": "print(ratings.shape)",
   "id": "569fc57b81de597e",
   "outputs": [
    {
     "name": "stdout",
     "output_type": "stream",
     "text": [
      "(100836, 4)\n"
     ]
    }
   ],
   "execution_count": 75
  },
  {
   "metadata": {
    "ExecuteTime": {
     "end_time": "2025-04-30T08:02:43.207118Z",
     "start_time": "2025-04-30T08:02:43.203392Z"
    }
   },
   "cell_type": "code",
   "source": "print(ratings.head())",
   "id": "2ab5fabdf0a65e05",
   "outputs": [
    {
     "name": "stdout",
     "output_type": "stream",
     "text": [
      "   userId  movieId  rating  timestamp\n",
      "0       1        1     4.0  964982703\n",
      "1       1        3     4.0  964981247\n",
      "2       1        6     4.0  964982224\n",
      "3       1       47     5.0  964983815\n",
      "4       1       50     5.0  964982931\n"
     ]
    }
   ],
   "execution_count": 76
  },
  {
   "metadata": {
    "ExecuteTime": {
     "end_time": "2025-04-30T08:02:43.577506Z",
     "start_time": "2025-04-30T08:02:43.542177Z"
    }
   },
   "cell_type": "code",
   "source": [
    "r = ratings.pivot(index='movieId', columns='userId', values='rating')\n",
    "print(r.head())"
   ],
   "id": "e5502f698c751c58",
   "outputs": [
    {
     "name": "stdout",
     "output_type": "stream",
     "text": [
      "userId   1    2    3    4    5    6    7    8    9    10   ...  601  602  603  604  605  606  607  608  609  610\n",
      "movieId                                                    ...                                                  \n",
      "1        4.0  NaN  NaN  NaN  4.0  NaN  4.5  NaN  NaN  NaN  ...  4.0  NaN  4.0  3.0  4.0  2.5  4.0  2.5  3.0  5.0\n",
      "2        NaN  NaN  NaN  NaN  NaN  4.0  NaN  4.0  NaN  NaN  ...  NaN  4.0  NaN  5.0  3.5  NaN  NaN  2.0  NaN  NaN\n",
      "3        4.0  NaN  NaN  NaN  NaN  5.0  NaN  NaN  NaN  NaN  ...  NaN  NaN  NaN  NaN  NaN  NaN  NaN  2.0  NaN  NaN\n",
      "4        NaN  NaN  NaN  NaN  NaN  3.0  NaN  NaN  NaN  NaN  ...  NaN  NaN  NaN  NaN  NaN  NaN  NaN  NaN  NaN  NaN\n",
      "5        NaN  NaN  NaN  NaN  NaN  5.0  NaN  NaN  NaN  NaN  ...  NaN  NaN  NaN  3.0  NaN  NaN  NaN  NaN  NaN  NaN\n",
      "\n",
      "[5 rows x 610 columns]\n"
     ]
    }
   ],
   "execution_count": 77
  },
  {
   "metadata": {
    "ExecuteTime": {
     "end_time": "2025-04-30T08:02:43.702902Z",
     "start_time": "2025-04-30T08:02:43.699556Z"
    }
   },
   "cell_type": "code",
   "source": [
    "r_np = r.to_numpy()\n",
    "print(r_np.shape)"
   ],
   "id": "704b7e4526f65e3",
   "outputs": [
    {
     "name": "stdout",
     "output_type": "stream",
     "text": [
      "(9724, 610)\n"
     ]
    }
   ],
   "execution_count": 78
  },
  {
   "metadata": {
    "ExecuteTime": {
     "end_time": "2025-04-30T08:02:43.920712Z",
     "start_time": "2025-04-30T08:02:43.844122Z"
    }
   },
   "cell_type": "code",
   "source": [
    "samp_cov = np.cov(r_np, rowvar=False)\n",
    "print(samp_cov)"
   ],
   "id": "bdc35d9df9b44802",
   "outputs": [
    {
     "name": "stdout",
     "output_type": "stream",
     "text": [
      "[[nan nan nan ... nan nan nan]\n",
      " [nan nan nan ... nan nan nan]\n",
      " [nan nan nan ... nan nan nan]\n",
      " ...\n",
      " [nan nan nan ... nan nan nan]\n",
      " [nan nan nan ... nan nan nan]\n",
      " [nan nan nan ... nan nan nan]]\n"
     ]
    }
   ],
   "execution_count": 79
  },
  {
   "metadata": {
    "ExecuteTime": {
     "end_time": "2025-04-30T08:02:44.179961Z",
     "start_time": "2025-04-30T08:02:43.993227Z"
    }
   },
   "cell_type": "code",
   "source": [
    "# Covariance matrix with pandas:\n",
    "R = (r - r.mean(axis=0, skipna=True)).div(r.std(axis=0, ddof=0, skipna=True) + 1e-8, axis=1)\n",
    "R = R.fillna(0)\n",
    "R_np = R.to_numpy()\n",
    "n_items = R_np.shape[0]\n",
    "C = (R_np.T @ R_np) / n_items\n",
    "print(C)"
   ],
   "id": "b7075c38bbf39a25",
   "outputs": [
    {
     "name": "stdout",
     "output_type": "stream",
     "text": [
      "[[ 2.38584938e-02  1.06665081e-05  5.40535573e-06 ...  3.39668346e-03 -2.44988167e-04  6.17897908e-04]\n",
      " [ 1.06665081e-05  2.98231173e-03  0.00000000e+00 ... -9.58000517e-05 -2.02425072e-04  4.99557847e-04]\n",
      " [ 5.40535573e-06  0.00000000e+00  4.01069515e-03 ... -2.40686929e-04  0.00000000e+00  4.53042362e-04]\n",
      " ...\n",
      " [ 3.39668346e-03 -9.58000517e-05 -2.40686929e-04 ...  8.54586574e-02  9.14510034e-04  5.82491846e-03]\n",
      " [-2.44988167e-04 -2.02425072e-04  0.00000000e+00 ...  9.14510034e-04  3.80501834e-03 -2.81499434e-04]\n",
      " [ 6.17897908e-04  4.99557847e-04  4.53042362e-04 ...  5.82491846e-03 -2.81499434e-04  1.33895513e-01]]\n"
     ]
    }
   ],
   "execution_count": 80
  },
  {
   "metadata": {
    "ExecuteTime": {
     "end_time": "2025-04-30T08:02:44.226802Z",
     "start_time": "2025-04-30T08:02:44.221284Z"
    }
   },
   "cell_type": "code",
   "source": [
    "def nanvar(\n",
    "        tensor: torch.Tensor,\n",
    "        dim: int=None,\n",
    "        keepdim: bool=False,\n",
    "        correction: int=1\n",
    ") -> torch.Tensor:\n",
    "    count = (~torch.isnan(tensor)).sum(dim=dim, keepdim=keepdim)\n",
    "\n",
    "    mean = torch.nanmean(tensor, dim=dim, keepdim=True)\n",
    "\n",
    "    sq_diff = (tensor - mean).pow(2)\n",
    "    sq_diff = torch.where(\n",
    "        torch.isnan(sq_diff),\n",
    "        torch.zeros_like(sq_diff),\n",
    "        sq_diff)\n",
    "\n",
    "    sum_sq_diff = sq_diff.sum(dim=dim, keepdim=keepdim)\n",
    "\n",
    "    divisor = (count - correction).clamp(min=1)\n",
    "\n",
    "    return sum_sq_diff / divisor.to(sum_sq_diff.dtype)\n",
    "\n",
    "def nanstd(\n",
    "        tensor: torch.Tensor,\n",
    "        dim: int=None,\n",
    "        keepdim: bool=False,\n",
    "        correction: int=1\n",
    ") -> torch.Tensor:\n",
    "\n",
    "    return nanvar(tensor, dim=dim, keepdim=keepdim, correction=correction).sqrt()"
   ],
   "id": "fa95989af1bc909d",
   "outputs": [],
   "execution_count": 81
  },
  {
   "metadata": {
    "ExecuteTime": {
     "end_time": "2025-04-30T08:05:19.620022Z",
     "start_time": "2025-04-30T08:05:19.616434Z"
    }
   },
   "cell_type": "code",
   "source": [
    "def user_user_covariance_torch(\n",
    "        r: torch.Tensor\n",
    ") -> torch.Tensor:\n",
    "\n",
    "    # r : (|I| x |U|)\n",
    "    means = torch.nanmean(r, dim=0)\n",
    "    stds = nanstd(r, dim=0, correction=0)\n",
    "\n",
    "    R_z = (r - means) / (stds + 1e-8)\n",
    "    R_z = torch.nan_to_num(R_z, nan=0.0)\n",
    "\n",
    "    n_items = R_z.shape[0]\n",
    "    C = (R_z.t() @ R_z) / n_items\n",
    "    return C"
   ],
   "id": "50d7cee65b0a2278",
   "outputs": [],
   "execution_count": 94
  },
  {
   "metadata": {
    "ExecuteTime": {
     "end_time": "2025-04-30T08:05:20.156023Z",
     "start_time": "2025-04-30T08:05:19.950034Z"
    }
   },
   "cell_type": "code",
   "source": [
    "r_torch = torch.tensor(r_np, dtype=torch.float64)\n",
    "C_torch = user_user_covariance_torch(r_torch)\n",
    "print(C_torch)"
   ],
   "id": "47b7d4e4ebfc8ec0",
   "outputs": [
    {
     "name": "stdout",
     "output_type": "stream",
     "text": [
      "tensor([[ 2.3858e-02,  1.0667e-05,  5.4054e-06,  ...,  3.3967e-03,\n",
      "         -2.4499e-04,  6.1790e-04],\n",
      "        [ 1.0667e-05,  2.9823e-03,  0.0000e+00,  ..., -9.5800e-05,\n",
      "         -2.0243e-04,  4.9956e-04],\n",
      "        [ 5.4054e-06,  0.0000e+00,  4.0107e-03,  ..., -2.4069e-04,\n",
      "          0.0000e+00,  4.5304e-04],\n",
      "        ...,\n",
      "        [ 3.3967e-03, -9.5800e-05, -2.4069e-04,  ...,  8.5459e-02,\n",
      "          9.1451e-04,  5.8249e-03],\n",
      "        [-2.4499e-04, -2.0243e-04,  0.0000e+00,  ...,  9.1451e-04,\n",
      "          3.8050e-03, -2.8150e-04],\n",
      "        [ 6.1790e-04,  4.9956e-04,  4.5304e-04,  ...,  5.8249e-03,\n",
      "         -2.8150e-04,  1.3390e-01]], dtype=torch.float64)\n"
     ]
    }
   ],
   "execution_count": 95
  },
  {
   "metadata": {
    "ExecuteTime": {
     "end_time": "2025-04-30T08:02:47.069743Z",
     "start_time": "2025-04-30T08:02:46.961905Z"
    }
   },
   "cell_type": "code",
   "source": [
    "cov_builtin_torch = torch.cov(r_torch.t())\n",
    "print(cov_builtin_torch.shape)\n",
    "print(cov_builtin_torch)"
   ],
   "id": "548728fddcd3131f",
   "outputs": [
    {
     "name": "stdout",
     "output_type": "stream",
     "text": [
      "torch.Size([610, 610])\n",
      "tensor([[nan, nan, nan,  ..., nan, nan, nan],\n",
      "        [nan, nan, nan,  ..., nan, nan, nan],\n",
      "        [nan, nan, nan,  ..., nan, nan, nan],\n",
      "        ...,\n",
      "        [nan, nan, nan,  ..., nan, nan, nan],\n",
      "        [nan, nan, nan,  ..., nan, nan, nan],\n",
      "        [nan, nan, nan,  ..., nan, nan, nan]], dtype=torch.float64)\n"
     ]
    }
   ],
   "execution_count": 84
  },
  {
   "metadata": {
    "ExecuteTime": {
     "end_time": "2025-04-30T08:02:48.495999Z",
     "start_time": "2025-04-30T08:02:48.492642Z"
    }
   },
   "cell_type": "code",
   "source": "print((C_torch - cov_builtin_torch).abs().max())",
   "id": "4de6e6a32b7e81c3",
   "outputs": [
    {
     "name": "stdout",
     "output_type": "stream",
     "text": [
      "tensor(nan, dtype=torch.float64)\n"
     ]
    }
   ],
   "execution_count": 85
  },
  {
   "metadata": {
    "ExecuteTime": {
     "end_time": "2025-04-30T08:39:43.528643Z",
     "start_time": "2025-04-30T08:39:43.428426Z"
    }
   },
   "cell_type": "code",
   "source": [
    "R_sci = stats.zscore(r, axis=0, ddof=0, nan_policy='omit')\n",
    "print(R_sci)\n",
    "print(R_np)"
   ],
   "id": "6ac0f30f8ff951ee",
   "outputs": [
    {
     "name": "stdout",
     "output_type": "stream",
     "text": [
      "userId        1    2    3    4         5    ...       606       607       608       609       610\n",
      "movieId                                     ...                                                  \n",
      "1       -0.458937  NaN  NaN  NaN  0.371391  ... -1.599069  0.222106 -0.587955 -0.608581  1.530107\n",
      "2             NaN  NaN  NaN  NaN       NaN  ...       NaN       NaN -1.051514       NaN       NaN\n",
      "3       -0.458937  NaN  NaN  NaN       NaN  ...       NaN       NaN -1.051514       NaN       NaN\n",
      "4             NaN  NaN  NaN  NaN       NaN  ...       NaN       NaN       NaN       NaN       NaN\n",
      "5             NaN  NaN  NaN  NaN       NaN  ...       NaN       NaN       NaN       NaN       NaN\n",
      "...           ...  ...  ...  ...       ...  ...       ...       ...       ...       ...       ...\n",
      "193581        NaN  NaN  NaN  NaN       NaN  ...       NaN       NaN       NaN       NaN       NaN\n",
      "193583        NaN  NaN  NaN  NaN       NaN  ...       NaN       NaN       NaN       NaN       NaN\n",
      "193585        NaN  NaN  NaN  NaN       NaN  ...       NaN       NaN       NaN       NaN       NaN\n",
      "193587        NaN  NaN  NaN  NaN       NaN  ...       NaN       NaN       NaN       NaN       NaN\n",
      "193609        NaN  NaN  NaN  NaN       NaN  ...       NaN       NaN       NaN       NaN       NaN\n",
      "\n",
      "[9724 rows x 610 columns]\n",
      "[[-0.45893678  0.          0.         ... -0.58795509 -0.60858061  1.53010744]\n",
      " [ 0.          0.          0.         ... -1.05151362  0.          0.        ]\n",
      " [-0.45893678  0.          0.         ... -1.05151362  0.          0.        ]\n",
      " ...\n",
      " [ 0.          0.          0.         ...  0.          0.          0.        ]\n",
      " [ 0.          0.          0.         ...  0.          0.          0.        ]\n",
      " [ 0.          0.          0.         ...  0.          0.          0.        ]]\n"
     ]
    }
   ],
   "execution_count": 103
  },
  {
   "metadata": {
    "ExecuteTime": {
     "end_time": "2025-04-30T08:45:10.412132Z",
     "start_time": "2025-04-30T08:45:10.403255Z"
    }
   },
   "cell_type": "code",
   "source": [
    "def sparsify_covariance(\n",
    "        C: torch.Tensor,\n",
    "        cov_type: str,\n",
    "        thr: float=0.0,\n",
    "        p: float=0.1,\n",
    "        sparse_tensor: bool=False):\n",
    "    if cov_type == \"standard\":\n",
    "        C_sparse = C\n",
    "    elif cov_type == \"RCV\":\n",
    "        # Generate probability values\n",
    "        sigma = min((1-p)/3, p/3)\n",
    "        lim_prob = np.linspace(0,1,1000)\n",
    "        distr_prob = 1/(sigma * np.sqrt(2*np.pi)) * np.exp(-0.5 * ((lim_prob-p)/sigma)**2)\n",
    "        distr_prob = distr_prob / distr_prob.sum()\n",
    "        prob_values = np.random.choice(lim_prob, p=distr_prob, size=C.shape[0] ** 2)\n",
    "        prob_values = torch.FloatTensor(np.sort(prob_values))\n",
    "\n",
    "        # Assign probability values\n",
    "        sorted_idx = torch.argsort(C.abs().flatten())\n",
    "        prob = torch.zeros([C.shape[0] ** 2,]).float().scatter_(0, sorted_idx, prob_values)\n",
    "        prob = prob.reshape(C.shape)\n",
    "        prob[torch.eye(prob.shape[0]).long()] = 1 # no removal on the diagonal\n",
    "\n",
    "        # Drop edges symmetrically\n",
    "        mask = torch.rand(C.shape) <= prob\n",
    "        triu = torch.triu(torch.ones(C.shape), diagonal=0).bool()\n",
    "        mask = mask * triu + mask.t() * ~triu # make resulting matrix symmetric\n",
    "        C_sparse = torch.where(mask, C, 0)\n",
    "\n",
    "    elif cov_type == \"ACV\":\n",
    "        prob = C.abs() / C.abs().max()\n",
    "        prob[torch.eye(prob.shape[0]).long()] = 1 # no removal on the diagonal\n",
    "        mask = torch.rand(C.shape) <= prob\n",
    "        triu = torch.triu(torch.ones(C.shape), diagonal=0).bool()\n",
    "        mask = mask * triu + mask.t() * ~triu # make resulting matrix symmetric\n",
    "        C_sparse = torch.where(mask, C, 0)\n",
    "\n",
    "    elif cov_type == \"hard_thr\":\n",
    "        C_sparse = torch.where(C.abs() > thr, C, 0)\n",
    "    elif cov_type == \"soft_thr\":\n",
    "        C_sparse = torch.where(C.abs() > thr, C - (C>0).float()*thr, 0)\n",
    "\n",
    "    if sparse_tensor:\n",
    "        return C_sparse.to_sparse()\n",
    "\n",
    "    return C_sparse"
   ],
   "id": "ff1bb12b529fcf1a",
   "outputs": [],
   "execution_count": 104
  },
  {
   "metadata": {},
   "cell_type": "code",
   "outputs": [],
   "execution_count": null,
   "source": "",
   "id": "42ba4f7a79197a64"
  }
 ],
 "metadata": {
  "kernelspec": {
   "display_name": "Python 3",
   "language": "python",
   "name": "python3"
  },
  "language_info": {
   "codemirror_mode": {
    "name": "ipython",
    "version": 2
   },
   "file_extension": ".py",
   "mimetype": "text/x-python",
   "name": "python",
   "nbconvert_exporter": "python",
   "pygments_lexer": "ipython2",
   "version": "2.7.6"
  }
 },
 "nbformat": 4,
 "nbformat_minor": 5
}
