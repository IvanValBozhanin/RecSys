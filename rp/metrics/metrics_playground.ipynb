{
 "cells": [
  {
   "cell_type": "code",
   "id": "64a900d05fb3d17e",
   "metadata": {
    "ExecuteTime": {
     "end_time": "2025-05-15T18:15:38.052840Z",
     "start_time": "2025-05-15T18:15:38.050118Z"
    }
   },
   "source": [
    "import pandas as pd\n",
    "import numpy as np\n",
    "from typing import List, Callable, Dict, Tuple, Set"
   ],
   "outputs": [],
   "execution_count": 4
  },
  {
   "metadata": {},
   "cell_type": "markdown",
   "source": "# 1. Main Methods",
   "id": "4257a860769eb87c"
  },
  {
   "metadata": {
    "ExecuteTime": {
     "end_time": "2025-05-15T18:15:38.622012Z",
     "start_time": "2025-05-15T18:15:38.616962Z"
    }
   },
   "cell_type": "code",
   "source": [
    "def calc_diversity(\n",
    "        recommendation: List[int],\n",
    "        dissimilarity: Callable[[int, int], float]\n",
    ") -> float:\n",
    "    n = len(recommendation)\n",
    "    if n < 2: return 0.0\n",
    "    total = 0\n",
    "    count = 0\n",
    "    for i in range(n-1):\n",
    "        for j in range(i+1, n):\n",
    "            total += dissimilarity(recommendation[i], recommendation[j])\n",
    "            count += 1\n",
    "    return 2 * total / count\n",
    "\n",
    "def calc_novelty(\n",
    "        recommendation: List[int],\n",
    "        popularity_score: Callable[[int], float]\n",
    ") -> float:\n",
    "    if not recommendation: return 0.0\n",
    "    return sum(1 - popularity_score(i) for i in recommendation) / len(recommendation)\n",
    "\n",
    "def calc_serendipity(\n",
    "    recommendation: List[int],\n",
    "    liked_items: Set[int],\n",
    "    user_history: Set[int],\n",
    "    similarity: Callable[[int, int], float],\n",
    "    threshold: float = 0.5\n",
    ") -> float:\n",
    "    if not recommendation: return 0.0\n",
    "    ser = 0\n",
    "    for i in recommendation:\n",
    "        rel = (i in liked_items)\n",
    "        unexp = all(similarity(i, h) < threshold for h in user_history)\n",
    "        if rel and unexp:\n",
    "            ser += 1\n",
    "    return ser / len(recommendation)"
   ],
   "id": "b8b72f02b5defb74",
   "outputs": [],
   "execution_count": 5
  },
  {
   "metadata": {},
   "cell_type": "markdown",
   "source": "# 2. Helper Funcitons",
   "id": "457c9ec3a9f504ed"
  },
  {
   "metadata": {},
   "cell_type": "markdown",
   "source": "### 2.1 Genre Based",
   "id": "8e132b0e34006db4"
  },
  {
   "metadata": {
    "ExecuteTime": {
     "end_time": "2025-05-15T18:15:41.978182Z",
     "start_time": "2025-05-15T18:15:41.972940Z"
    }
   },
   "cell_type": "code",
   "source": [
    "def load_genre_vectors(\n",
    "    movies_csv: str\n",
    ") -> Dict[int, np.ndarray]:\n",
    "    \"\"\"\n",
    "    Load MovieLens movies.csv and build a multi-hot genre vector for each movie.\n",
    "\n",
    "    Parameters:\n",
    "    - movies_csv: str\n",
    "        Path to the MovieLens movies.csv file.\n",
    "\n",
    "    Returns:\n",
    "    - Dict[int, np.ndarray]\n",
    "        Mapping from movieId to a binary vector of length G,\n",
    "        where G is the number of unique genres.\n",
    "    \"\"\"\n",
    "\n",
    "    movies = pd.read_csv(movies_csv)\n",
    "    # Handle missing genres by filling with empty string\n",
    "    movies['genre_list'] = movies['genres'].fillna('').str.split('|')\n",
    "    all_genres = sorted({g for lst in movies['genre_list'] for g in lst if g})\n",
    "    genre_to_idx = {genre: i for i, genre in enumerate(all_genres)}\n",
    "    vecs = {}\n",
    "    for _, r in movies.iterrows():\n",
    "        vec = np.zeros(len(all_genres), dtype=float)\n",
    "        for g in r['genre_list']:\n",
    "            if g and g in genre_to_idx:\n",
    "                vec[genre_to_idx[g]] = 1.0\n",
    "        vecs[int(r['movieId'])] = vec\n",
    "    return vecs\n",
    "\n",
    "def jaccard_similarity(\n",
    "        a: int,\n",
    "        b: int,\n",
    "        genre_vectors: Dict[int, np.ndarray]\n",
    ") -> float:\n",
    "    \"\"\"\n",
    "    Compute Jaccard similarity between two movies based on genre vectors.\n",
    "    \"\"\"\n",
    "    vec_a = genre_vectors[a]\n",
    "    vec_b = genre_vectors[b]\n",
    "    intersection = np.logical_and(vec_a, vec_b).sum()\n",
    "    union = np.logical_or(vec_a, vec_b).sum()\n",
    "    if union == 0:\n",
    "        return 0.0\n",
    "    return intersection / union\n",
    "\n",
    "def cosine_similarity_genre(\n",
    "        a: int,\n",
    "        b: int,\n",
    "        genre_vectors: Dict[int, np.ndarray]\n",
    ") -> float:\n",
    "    \"\"\"\n",
    "    Compute Cosine similarity between two movies based on genre vectors.\n",
    "    \"\"\"\n",
    "    vec_a = genre_vectors[a]\n",
    "    vec_b = genre_vectors[b]\n",
    "    num = float(np.dot(vec_a, vec_b))\n",
    "    denom = np.linalg.norm(vec_a) * np.linalg.norm(vec_b)\n",
    "    if denom == 0:\n",
    "        return 0.0\n",
    "    return num / denom\n",
    "\n",
    "def dissimilarity_from_similarity(\n",
    "    similarity_fn: Callable[[int, int], float]\n",
    ") -> Callable[[int, int], float]:\n",
    "    \"\"\"\n",
    "    Given a similarity function, return a dissimilarity function = 1 - similarity.\n",
    "    \"\"\"\n",
    "    def diss(a: int, b: int) -> float:\n",
    "        return 1.0 - similarity_fn(a, b)\n",
    "    return diss\n"
   ],
   "id": "db44780ade669e4b",
   "outputs": [],
   "execution_count": 6
  },
  {
   "metadata": {},
   "cell_type": "markdown",
   "source": "### 2.2 Popularity Based",
   "id": "b8d889f348724cb3"
  },
  {
   "metadata": {
    "ExecuteTime": {
     "end_time": "2025-05-15T18:15:44.081267Z",
     "start_time": "2025-05-15T18:15:44.077797Z"
    }
   },
   "cell_type": "code",
   "source": [
    "def load_ratings_popularity(\n",
    "        ratings_csv: str\n",
    ") -> Tuple[Dict[int, int], int]:\n",
    "    \"\"\"\n",
    "    Load MovieLens ratings.csv and compute item popularity counts.\n",
    "\n",
    "    Returns:\n",
    "    - movie_counts: Dict[int, int] mapping movieId to number of unique users who rated it.\n",
    "    - total_users: int total number of unique userWs in the dataset.\n",
    "    \"\"\"\n",
    "    ratings = pd.read_csv(ratings_csv)\n",
    "    total_users = ratings['userId'].nunique()\n",
    "    # Count unique users per movie\n",
    "    movie_counts = ratings.groupby('movieId')['userId'].nunique().to_dict()\n",
    "    return movie_counts, total_users\n",
    "\n",
    "def popularity_score_max_norm(\n",
    "    movie_id: int,\n",
    "    movie_counts: Dict[int, int]\n",
    ") -> float:\n",
    "    \"\"\"\n",
    "    Normalize popularity by the max count in the catalog.\n",
    "    \"\"\"\n",
    "    max_count = max(movie_counts.values()) if movie_counts else 1\n",
    "    return movie_counts.get(movie_id, 0) / max_count\n",
    "\n",
    "def popularity_score_user_norm(\n",
    "    movie_id: int,\n",
    "    movie_counts: Dict[int, int],\n",
    "    total_users: int\n",
    ") -> float:\n",
    "    \"\"\"\n",
    "    Normalize popularity by total number of users.\n",
    "    \"\"\"\n",
    "    if total_users <= 0:\n",
    "        return 0.0\n",
    "    return movie_counts.get(movie_id, 0) / total_users"
   ],
   "id": "bdac7a0858170a63",
   "outputs": [],
   "execution_count": 7
  },
  {
   "metadata": {},
   "cell_type": "markdown",
   "source": "### 2.3 Embedding Based",
   "id": "a6bd28331c83c689"
  },
  {
   "metadata": {
    "ExecuteTime": {
     "end_time": "2025-05-15T18:15:45.254491Z",
     "start_time": "2025-05-15T18:15:45.251470Z"
    }
   },
   "cell_type": "code",
   "source": [
    "def cosine_similarity_embeddings(\n",
    "    a: int,\n",
    "    b: int,\n",
    "    embeddings: Dict[int, np.ndarray]\n",
    ") -> float:\n",
    "    \"\"\"\n",
    "    Cosine similarity between precomputed item embeddings.\n",
    "\n",
    "    Parameters:\n",
    "    - embeddings: Dict[int, np.ndarray] mapping movieId to embedding vector.\n",
    "    \"\"\"\n",
    "    vec_a = embeddings.get(a)\n",
    "    vec_b = embeddings.get(b)\n",
    "    if vec_a is None or vec_b is None:\n",
    "        return 0.0\n",
    "    num = float(np.dot(vec_a, vec_b))\n",
    "    denom = np.linalg.norm(vec_a) * np.linalg.norm(vec_b)\n",
    "    if denom == 0:\n",
    "        return 0.0\n",
    "    return num / denom\n",
    "\n",
    "# Example usage:\n",
    "# genres = load_genre_vectors('movies.csv')\n",
    "# diss_jaccard = dissimilarity_from_similarity(lambda x, y: jaccard_similarity(x, y, genres))\n",
    "# movie_counts, total_users = load_ratings_popularity('ratings.csv')\n",
    "# pop_max = lambda i: popularity_score_max_norm(i, movie_counts)\n",
    "# pop_user = lambda i: popularity_score_user_norm(i, movie_counts, total_users)\n"
   ],
   "id": "c8233a1438b53c8a",
   "outputs": [],
   "execution_count": 8
  },
  {
   "metadata": {
    "ExecuteTime": {
     "end_time": "2025-05-15T19:34:34.956897Z",
     "start_time": "2025-05-15T19:34:34.947664Z"
    }
   },
   "cell_type": "code",
   "source": [
    "import pandas as pd\n",
    "import numpy as np\n",
    "from io import StringIO\n",
    "\n",
    "# --- Definitions (updated) ---\n",
    "\n",
    "# --- Tests ---\n",
    "\n",
    "# 1. Test load_genre_vectors\n",
    "movies_csv = StringIO(\"\"\"movieId,title,genres\n",
    "1,M1,Action|Comedy\n",
    "2,M2,Action\n",
    "3,M3,\n",
    "\"\"\")\n",
    "genre_vectors = load_genre_vectors(movies_csv)\n",
    "assert set(genre_vectors.keys()) == {1, 2, 3}\n",
    "\n",
    "# 2. Test genre similarities\n",
    "j12 = jaccard_similarity(1, 2, genre_vectors)\n",
    "assert abs(j12 - 0.5) < 1e-6\n",
    "c12 = cosine_similarity_genre(1, 2, genre_vectors)\n",
    "exp_c12 = np.dot(genre_vectors[1], genre_vectors[2]) / (np.linalg.norm(genre_vectors[1]) * np.linalg.norm(genre_vectors[2]))\n",
    "assert abs(c12 - exp_c12) < 1e-6\n",
    "\n",
    "# 3. Test dissimilarity_from_similarity\n",
    "sim_const = lambda a, b: 0.4\n",
    "diss = dissimilarity_from_similarity(sim_const)\n",
    "assert abs(diss(0, 0) - 0.6) < 1e-6\n",
    "\n",
    "# 4. Test load_ratings_popularity\n",
    "ratings_csv = StringIO(\"\"\"userId,movieId,rating,timestamp\n",
    "1,1,5.0,100\n",
    "2,1,4.0,101\n",
    "1,2,3.0,102\n",
    "\"\"\")\n",
    "movie_counts, total_users = load_ratings_popularity(ratings_csv)\n",
    "assert movie_counts == {1: 2, 2: 1}\n",
    "assert total_users == 2\n",
    "\n",
    "# 5. Test popularity scores\n",
    "assert abs(popularity_score_max_norm(1, movie_counts) - 1.0) < 1e-6\n",
    "assert abs(popularity_score_user_norm(1, movie_counts, total_users) - 1.0) < 1e-6\n",
    "\n",
    "# 6. Test cosine_similarity_embeddings\n",
    "embs = {1: np.array([1, 0]), 2: np.array([0, 1])}\n",
    "assert abs(cosine_similarity_embeddings(1, 2, embs) - 0.0) < 1e-6\n",
    "\n",
    "# 7. Test calc_diversity\n",
    "div = calc_diversity([1, 2, 3], lambda a, b: 1.0)\n",
    "assert abs(div - 1.0) < 1e-6\n",
    "\n",
    "# 8. Test calc_novelty\n",
    "nov = calc_novelty([1, 2], lambda i: 0.25 if i == 1 else 0.75)\n",
    "assert abs(nov - 0.5) < 1e-6\n",
    "\n",
    "# 9. Test calc_serendipity\n",
    "ser = calc_serendipity([1, 2, 3], {1, 3}, {2}, lambda a, b: 0.0, threshold=0.5)\n",
    "assert abs(ser - (2/3)) < 1e-6\n",
    "\n",
    "print(\"All tests passed!\")\n"
   ],
   "id": "926971739ef20b66",
   "outputs": [
    {
     "name": "stdout",
     "output_type": "stream",
     "text": [
      "All tests passed!\n"
     ]
    }
   ],
   "execution_count": 13
  },
  {
   "metadata": {
    "ExecuteTime": {
     "end_time": "2025-05-15T19:34:32.264395Z",
     "start_time": "2025-05-15T19:34:32.262215Z"
    }
   },
   "cell_type": "code",
   "source": "",
   "id": "a9a601a699340b7a",
   "outputs": [],
   "execution_count": null
  },
  {
   "metadata": {},
   "cell_type": "code",
   "outputs": [],
   "execution_count": null,
   "source": "",
   "id": "3655ee397cfe79e0"
  }
 ],
 "metadata": {
  "kernelspec": {
   "display_name": "Python 3",
   "language": "python",
   "name": "python3"
  },
  "language_info": {
   "codemirror_mode": {
    "name": "ipython",
    "version": 2
   },
   "file_extension": ".py",
   "mimetype": "text/x-python",
   "name": "python",
   "nbconvert_exporter": "python",
   "pygments_lexer": "ipython2",
   "version": "2.7.6"
  }
 },
 "nbformat": 4,
 "nbformat_minor": 5
}
